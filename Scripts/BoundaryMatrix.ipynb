{
 "cells": [
  {
   "cell_type": "markdown",
   "metadata": {},
   "source": [
    "In this notebook, we compute the rank of the boundary matrix examples in the paper, as well as the reduced form of the full boundary matrix."
   ]
  },
  {
   "cell_type": "code",
   "execution_count": null,
   "metadata": {},
   "outputs": [],
   "source": [
    "from sage.all import GF, matrix, zero_matrix, copy\n",
    "\n",
    "# We construct the boundary matrices from the paper\n",
    "B1 = matrix(GF(2), [[1, 1, 0, 0, 0, 0, 0, 0, 0],\n",
    "                    [1, 0, 1, 1, 1, 0, 0, 0, 0],\n",
    "                    [0, 1, 1, 0, 0, 1, 1, 0, 0],\n",
    "                    [0, 0, 0, 1, 0, 0, 0, 1, 0],\n",
    "                    [0, 0, 0, 0, 1, 1, 0, 1, 1],\n",
    "                    [0, 0, 0, 0, 0, 0, 1, 0, 1]])\n",
    "\n",
    "B2 = matrix(GF(2), [[1, 0, 0],\n",
    "                    [1, 0, 0],\n",
    "                    [1, 0, 0],\n",
    "                    [0, 1, 0],\n",
    "                    [0, 1, 0], \n",
    "                    [0, 0, 1], \n",
    "                    [0, 0, 1],\n",
    "                    [0, 1, 0],\n",
    "                    [0, 0, 1]])\n",
    "\n",
    "B = zero_matrix(GF(2), 6, 6).augment(B1).augment(zero_matrix(GF(2), 6, 3)).\\\n",
    "        stack(zero_matrix(GF(2), 9, 15).augment(B2)).stack(zero_matrix(GF(2), 3, 18))"
   ]
  },
  {
   "cell_type": "code",
   "execution_count": null,
   "metadata": {},
   "outputs": [],
   "source": [
    "# We compute the ranks of the individual boundary matrices B1 and B2\n",
    "print(\"Rank B1: \" + str(B1.rank()))\n",
    "print(\"Rank B2: \" + str(B2.rank()))"
   ]
  },
  {
   "cell_type": "code",
   "execution_count": null,
   "metadata": {},
   "outputs": [],
   "source": [
    "# Get the lowest nonzero entry of a column, return -1 if undefined\n",
    "def low(j, B):\n",
    "    lowj = -1\n",
    "    for i in range(B.nrows())[::-1]:\n",
    "        if B[i, j] != 0:\n",
    "            lowj = i\n",
    "            break\n",
    "    return lowj\n",
    "\n",
    "# Reduce a boundary matrix B\n",
    "def reduce(B):\n",
    "    for j in range(B.ncols()):\n",
    "        repeat = True\n",
    "        while(repeat):\n",
    "            repeat = False\n",
    "            for i in range(j):\n",
    "                if low(i, B) == low(j, B):\n",
    "                    for k in range(B.nrows()):\n",
    "                        B[k, j] = B[k, j] + B[k, i]\n",
    "                    if low(j, B) != -1:\n",
    "                        repeat = True\n",
    "    return(B)\n",
    "\n",
    "# We compute the reduced form of the full boundary matrix B over GF(2)\n",
    "reduce(copy(B))"
   ]
  }
 ],
 "metadata": {
  "kernelspec": {
   "display_name": "Python 3.9.7",
   "language": "python",
   "name": "python3"
  },
  "language_info": {
   "codemirror_mode": {
    "name": "ipython",
    "version": 3
   },
   "file_extension": ".py",
   "mimetype": "text/x-python",
   "name": "python",
   "nbconvert_exporter": "python",
   "pygments_lexer": "ipython3",
   "version": "3.9.7"
  },
  "vscode": {
   "interpreter": {
    "hash": "a15147a8b3fe6e4d38a9ab14ac8993683bb8d9c671983f91471c9c85640a9393"
   }
  }
 },
 "nbformat": 4,
 "nbformat_minor": 2
}
